{
 "cells": [
  {
   "cell_type": "code",
   "execution_count": 6,
   "id": "4b85ccfe-37e4-4a3f-9599-7d1e6df8ddcf",
   "metadata": {},
   "outputs": [],
   "source": [
    "import numpy as np\n",
    "import pandas as pd\n",
    "np.random.seed(42)\n",
    "products = pd.DataFrame({\n",
    "'product_id': np.arange(100), 'color': np.random.choice(['red', 'blue', 'green', 'yellow'], size=100),'brand': np.random.choice(['nike', 'adidas', 'puma', 'new balance'], size=100),'price': np.random.randint(10, 1000, size=100)\n",
    "})\n",
    "num_users = 100\n",
    "rankings = []\n",
    "\n",
    "for user_id in range(num_users):\n",
    "    ranked_products = np.random.choice(products['product_id'], size=10, replace=False)\n",
    "    unique_rankings = np.random.choice(np.arange(1, 6), size=5, replace=False)  # Ensure no duplicate rankings for the user\n",
    "    for product_id, ranking in zip(ranked_products, unique_rankings):\n",
    "        rankings.append([user_id, product_id, ranking])\n",
    "\n",
    "rankings_df = pd.DataFrame(rankings, columns=['user_id', 'product_id', 'ranking'])\n",
    "rankings_df.to_csv('user_rankings.csv', index=False, header=False)\n"
   ]
  },
  {
   "cell_type": "code",
   "execution_count": 7,
   "id": "7b4285ee-436a-46e7-9141-c73fe4475e24",
   "metadata": {},
   "outputs": [
    {
     "ename": "NameError",
     "evalue": "name 'train_test_split' is not defined",
     "output_type": "error",
     "traceback": [
      "\u001b[0;31m---------------------------------------------------------------------------\u001b[0m",
      "\u001b[0;31mNameError\u001b[0m                                 Traceback (most recent call last)",
      "Cell \u001b[0;32mIn[7], line 4\u001b[0m\n\u001b[1;32m      2\u001b[0m reader \u001b[38;5;241m=\u001b[39m Reader(line_format\u001b[38;5;241m=\u001b[39m\u001b[38;5;124m'\u001b[39m\u001b[38;5;124muser item rating\u001b[39m\u001b[38;5;124m'\u001b[39m, sep\u001b[38;5;241m=\u001b[39m\u001b[38;5;124m'\u001b[39m\u001b[38;5;124m,\u001b[39m\u001b[38;5;124m'\u001b[39m, rating_scale\u001b[38;5;241m=\u001b[39m(\u001b[38;5;241m1\u001b[39m, \u001b[38;5;241m5\u001b[39m))\n\u001b[1;32m      3\u001b[0m data \u001b[38;5;241m=\u001b[39m Dataset\u001b[38;5;241m.\u001b[39mload_from_file(\u001b[38;5;124m'\u001b[39m\u001b[38;5;124m/Users/malkhudhayri/Downloads/user_rankings.csv\u001b[39m\u001b[38;5;124m'\u001b[39m, reader\u001b[38;5;241m=\u001b[39mreader)\n\u001b[0;32m----> 4\u001b[0m trainset, testset \u001b[38;5;241m=\u001b[39m \u001b[43mtrain_test_split\u001b[49m(data, test_size\u001b[38;5;241m=\u001b[39m\u001b[38;5;241m0.25\u001b[39m)\n\u001b[1;32m      5\u001b[0m \u001b[38;5;66;03m#user based false to set item-based filtering\u001b[39;00m\n\u001b[1;32m      6\u001b[0m sim_options \u001b[38;5;241m=\u001b[39m {\n\u001b[1;32m      7\u001b[0m     \u001b[38;5;124m'\u001b[39m\u001b[38;5;124mname\u001b[39m\u001b[38;5;124m'\u001b[39m: \u001b[38;5;124m'\u001b[39m\u001b[38;5;124mcosine\u001b[39m\u001b[38;5;124m'\u001b[39m, \u001b[38;5;124m'\u001b[39m\u001b[38;5;124muser_based\u001b[39m\u001b[38;5;124m'\u001b[39m: \u001b[38;5;28;01mFalse\u001b[39;00m  \n\u001b[1;32m      8\u001b[0m }\n",
      "\u001b[0;31mNameError\u001b[0m: name 'train_test_split' is not defined"
     ]
    }
   ],
   "source": [
    "from surprise import Dataset, Reader, KNNBasic\n",
    "reader = Reader(line_format='user item rating', sep=',', rating_scale=(1, 5))\n",
    "data = Dataset.load_from_file('/Users/malkhudhayri/Downloads/user_rankings.csv', reader=reader)\n",
    "trainset, testset = train_test_split(data, test_size=0.25)\n",
    "#user based false to set item-based filtering\n",
    "sim_options = {\n",
    "    'name': 'cosine', 'user_based': False  \n",
    "}\n",
    "algo = KNNBasic(sim_options=sim_options)\n",
    "algo.fit(trainset)\n",
    "predictions = algo.test(testset)\n",
    "accuracy.rmse(predictions)\n"
   ]
  },
  {
   "cell_type": "code",
   "execution_count": null,
   "id": "0fd83645-2e49-4067-86c6-cd73d9ac4d8c",
   "metadata": {},
   "outputs": [],
   "source": []
  }
 ],
 "metadata": {
  "kernelspec": {
   "display_name": "Python 3 (ipykernel)",
   "language": "python",
   "name": "python3"
  },
  "language_info": {
   "codemirror_mode": {
    "name": "ipython",
    "version": 3
   },
   "file_extension": ".py",
   "mimetype": "text/x-python",
   "name": "python",
   "nbconvert_exporter": "python",
   "pygments_lexer": "ipython3",
   "version": "3.9.18"
  }
 },
 "nbformat": 4,
 "nbformat_minor": 5
}
